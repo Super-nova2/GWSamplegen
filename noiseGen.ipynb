{
 "cells": [
  {
   "cell_type": "code",
   "execution_count": 2,
   "metadata": {},
   "outputs": [],
   "source": [
    "import numpy as np"
   ]
  },
  {
   "cell_type": "code",
   "execution_count": 18,
   "metadata": {},
   "outputs": [],
   "source": [
    "def overlapping_intervals(arr1, arr2):\n",
    "    \"\"\"\n",
    "    Find overlapping segments between two lists of segments from different\n",
    "    detectors.\n",
    "\n",
    "    Designed to be used with the outputs of get_seg_list as the inputs.\n",
    "\n",
    "    Keyword arguments:\n",
    "    arr1 -- segment list of first detector\n",
    "    arr1 -- segment list of second detector\n",
    "    \"\"\"\n",
    "    res = []\n",
    "    arr1_pos = 0\n",
    "    arr2_pos = 0\n",
    "    len_arr1 = len(arr1)\n",
    "    len_arr2 = len(arr2)\n",
    "    # //Iterate over all intervals and store answer\n",
    "    while arr1_pos < len_arr1 and arr2_pos < len_arr2:\n",
    "        arr1_seg = arr1[arr1_pos]\n",
    "        arr2_seg = arr2[arr2_pos]\n",
    "\n",
    "        # print(arr1_seg)\n",
    "        # print(arr2_seg)\n",
    "\n",
    "        # arr1_seg fully inside of arr2_seg\n",
    "        if arr1_seg[0] >= arr2_seg[0] and arr1_seg[1] <= arr2_seg[1]:\n",
    "            res.append(arr1_seg)\n",
    "            arr1_pos += 1\n",
    "\n",
    "        # arr2_seg fully inside of arr1_seg\n",
    "        elif arr2_seg[0] >= arr1_seg[0] and arr2_seg[1] <= arr1_seg[1]:\n",
    "            res.append(arr2_seg)\n",
    "            arr2_pos += 1\n",
    "\n",
    "        # arr1_seg fully below arr2_seg\n",
    "        elif arr1_seg[0] <= arr2_seg[0] and arr1_seg[1] <= arr2_seg[0]:\n",
    "            arr1_pos += 1\n",
    "\n",
    "        # arr2_seg fully below arr1_seg\n",
    "        elif arr2_seg[0] <= arr1_seg[0] and arr2_seg[1] <= arr1_seg[0]:\n",
    "            arr2_pos += 1\n",
    "\n",
    "        # arr1_seg overlaps start of arr2_seg\n",
    "        elif arr1_seg[0] <= arr2_seg[0] <= arr1_seg[1] <= arr2_seg[1]:\n",
    "            res.append([arr2_seg[0], arr1_seg[1]])\n",
    "            arr1_pos += 1\n",
    "\n",
    "        # arr2_seg overlaps start of arr1_seg\n",
    "        elif arr2_seg[0] <= arr1_seg[0] <= arr2_seg[1] <= arr1_seg[1]:\n",
    "            res.append([arr1_seg[0], arr2_seg[1]])\n",
    "            arr2_pos += 1\n",
    "\n",
    "    if not res:\n",
    "        return [[]]\n",
    "\n",
    "    return res\n",
    "\n",
    "\n",
    "def get_seg_list(file_name, macrostart, macroend):\n",
    "    \"\"\"\n",
    "    Get a list of segments from a single detector segment file bounded\n",
    "    by a GPS time window\n",
    "\n",
    "    Keyword arguments:\n",
    "    file_name -- path to detector's segment list\n",
    "    macrostart -- Start GPS time of overlap window\n",
    "    macroend -- End GPS time of overlap window\n",
    "    \"\"\"\n",
    "    file = open(file_name, \"r\")\n",
    "\n",
    "    good_segs = []\n",
    "\n",
    "    for i in file.readlines():\n",
    "        times = i.split(\" \")\n",
    "        if int(times[1]) < macrostart or int(times[0]) > macroend:\n",
    "            continue\n",
    "        else:\n",
    "            good_segs.append([int(times[0]), int(times[1])])\n",
    "\n",
    "    file.close()\n",
    "\n",
    "    #if the first segment starts before macrostart, set the start time to macrostart\n",
    "    #if the last segment ends after macroend, set the end time to macroend\n",
    "\n",
    "    if good_segs[0][0] < int(macrostart):\n",
    "        good_segs[0][0] = int(macrostart)\n",
    "    if good_segs[-1][1] > int(macroend):\n",
    "        good_segs[-1][1] = int(macroend)\n",
    "\n",
    "\n",
    "    #good_segs[0][0] = int(macrostart)\n",
    "    #good_segs[-1][1] = int(macroend)\n",
    "\n",
    "    return good_segs\n",
    "\n",
    "\n",
    "def combine_seg_list(file_h1, file_l1, macrostart, macroend, min_duration):\n",
    "    \"\"\"\n",
    "    Find overlapping segments between two detectors within a window\n",
    "    defined by two GPS times.\n",
    "\n",
    "    Keyword arguments:\n",
    "    file_h1 -- path to H1 complete segment list\n",
    "    file_l1 -- path to L1 complete segment list\n",
    "    macrostart -- Start GPS time of overlap window\n",
    "    macroend -- End GPS time of overlap window\n",
    "    \"\"\"\n",
    "    good_segs_h1 = get_seg_list(file_h1, macrostart, macroend)\n",
    "    good_segs_l1 = get_seg_list(file_l1, macrostart, macroend)\n",
    "\n",
    "    good_segs = overlapping_intervals(good_segs_h1, good_segs_l1)\n",
    "\n",
    "    #remove segments shorter than min_duration\n",
    "    good_segs = [x for x in good_segs if x[1] - x[0] > min_duration]\n",
    "\n",
    "    return good_segs, good_segs_h1, good_segs_l1"
   ]
  },
  {
   "cell_type": "code",
   "execution_count": 3,
   "metadata": {},
   "outputs": [],
   "source": [
    "\n",
    "\n",
    "import matplotlib.pyplot as plt\n",
    "\n",
    "def plotting(segs, height):\n",
    "    y = []\n",
    "    for key, val in enumerate(segs):\n",
    "        length = val[1] - val[0]\n",
    "        for i in range(length):\n",
    "            y.append(height)\n",
    "\n",
    "        if key != len(segs)-1:\n",
    "            length = segs[key+1][0] - val[1]\n",
    "            for i in range(length):\n",
    "                y.append(0)\n",
    "    return y"
   ]
  },
  {
   "cell_type": "code",
   "execution_count": null,
   "metadata": {},
   "outputs": [],
   "source": [
    "\n",
    "#Damon's\n",
    "1238166018\n",
    "1238220000\n",
    "\n",
    "#my test case \n",
    "\n",
    "1239554063,1239555563\n",
    "\n",
    "#proper usage:\n",
    "1239150592, 1239150592 + 5e5\n"
   ]
  },
  {
   "cell_type": "code",
   "execution_count": 19,
   "metadata": {},
   "outputs": [
    {
     "name": "stdout",
     "output_type": "stream",
     "text": [
      "[[1239554617, 1239556563]]\n",
      "1946\n"
     ]
    }
   ],
   "source": [
    "segs, h1, l1 = combine_seg_list('noise/segments/H1_O3a.txt', 'noise/segments/L1_O3a.txt',1239553063+1500,1239553063+3500, min_duration=1000)\n",
    "print(segs)\n",
    "#print(h1)\n",
    "#print(l1)\n",
    "\n",
    "for i in segs:\n",
    "    print(i[1]-i[0])"
   ]
  },
  {
   "cell_type": "code",
   "execution_count": 20,
   "metadata": {},
   "outputs": [
    {
     "name": "stdout",
     "output_type": "stream",
     "text": [
      "1946\n",
      "1946\n",
      "2000\n"
     ]
    },
    {
     "data": {
      "text/plain": [
       "<matplotlib.collections.PolyCollection at 0x7f59055b1910>"
      ]
     },
     "execution_count": 20,
     "metadata": {},
     "output_type": "execute_result"
    },
    {
     "data": {
      "image/png": "[encoded data removed]",
      "text/plain": [
       "<Figure size 2000x800 with 1 Axes>"
      ]
     },
     "metadata": {},
     "output_type": "display_data"
    }
   ],
   "source": [
    "combined_plot = plotting(segs, 2)\n",
    "h1_plot = plotting(h1, 1)\n",
    "l1_plot = plotting(l1, 1)\n",
    "\n",
    "print(len(combined_plot))\n",
    "print(len(h1_plot))\n",
    "print(len(l1_plot))\n",
    "\n",
    "plt.figure(figsize=(20,8))\n",
    "# plt.plot(combined_plot)\n",
    "plt.fill_between(x=range(len(combined_plot)), y1=combined_plot, alpha=0.4)\n",
    "plt.fill_between(x=range(len(h1_plot)), y1=h1_plot, alpha=0.4, color='tab:blue')\n",
    "plt.fill_between(x=range(len(h1_plot)), y1=l1_plot[:len(h1_plot)], alpha=0.4, color='tab:blue')"
   ]
  },
  {
   "cell_type": "code",
   "execution_count": null,
   "metadata": {},
   "outputs": [],
   "source": []
  }
 ],
 "metadata": {
  "kernelspec": {
   "display_name": "ml",
   "language": "python",
   "name": "python3"
  },
  "language_info": {
   "codemirror_mode": {
    "name": "ipython",
    "version": 3
   },
   "file_extension": ".py",
   "mimetype": "text/x-python",
   "name": "python",
   "nbconvert_exporter": "python",
   "pygments_lexer": "ipython3",
   "version": "3.9.5"
  },
  "orig_nbformat": 4
 },
 "nbformat": 4,
 "nbformat_minor": 2
}
